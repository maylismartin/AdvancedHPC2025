{
  "nbformat": 4,
  "nbformat_minor": 0,
  "metadata": {
    "colab": {
      "provenance": [],
      "gpuType": "T4"
    },
    "kernelspec": {
      "name": "python3",
      "display_name": "Python 3"
    },
    "language_info": {
      "name": "python"
    },
    "accelerator": "GPU"
  },
  "cells": [
    {
      "cell_type": "code",
      "source": [
        "from numba import cuda\n",
        "\n",
        "print(\"=== GPU detection ===\")\n",
        "cuda.detect()"
      ],
      "metadata": {
        "colab": {
          "base_uri": "https://localhost:8080/"
        },
        "id": "x8puwxx4aweU",
        "outputId": "70635265-7b78-4785-a485-0a0030b3a7a9"
      },
      "execution_count": 2,
      "outputs": [
        {
          "output_type": "stream",
          "name": "stdout",
          "text": [
            "=== GPU detection ===\n",
            "Found 1 CUDA devices\n",
            "id 0             b'Tesla T4'                              [SUPPORTED]\n",
            "                      Compute Capability: 7.5\n",
            "                           PCI Device ID: 4\n",
            "                              PCI Bus ID: 0\n",
            "                                    UUID: GPU-b187ec57-25bf-e8f5-3f95-8380100b16f3\n",
            "                                Watchdog: Disabled\n",
            "             FP32/FP64 Performance Ratio: 32\n",
            "Summary:\n",
            "\t1/1 devices are supported\n"
          ]
        },
        {
          "output_type": "execute_result",
          "data": {
            "text/plain": [
              "True"
            ]
          },
          "metadata": {},
          "execution_count": 2
        }
      ]
    },
    {
      "cell_type": "code",
      "source": [
        "device = cuda.select_device(0)\n",
        "\n",
        "print(\"=== GPU Information ===\")\n",
        "print(f\"Device id: {device.id}\")\n",
        "print(f\"Device name: {device.name.decode() if isinstance(device.name, bytes) else device.name}\")\n",
        "print(f\"Multiprocessor count: {device.MULTIPROCESSOR_COUNT}\")"
      ],
      "metadata": {
        "colab": {
          "base_uri": "https://localhost:8080/"
        },
        "id": "IPF8b0UecdNv",
        "outputId": "e043a256-8d31-476d-a716-ab38c1e62a0e"
      },
      "execution_count": 5,
      "outputs": [
        {
          "output_type": "stream",
          "name": "stdout",
          "text": [
            "=== GPU Information ===\n",
            "Device id: 0\n",
            "Device name: Tesla T4\n",
            "Multiprocessor count: 40\n"
          ]
        }
      ]
    }
  ]
}